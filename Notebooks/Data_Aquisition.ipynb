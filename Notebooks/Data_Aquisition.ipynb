{
 "cells": [
  {
   "cell_type": "markdown",
   "metadata": {},
   "source": [
    "# Chicago Taxi Fare Prediction - Data Aquisition\n",
    "\n",
    "Chicago Taxi dataset is available in the URL - https://data.cityofchicago.org/Transportation/Taxi-Trips/wrvz-psew\n",
    "\n",
    "The above dataset is around 70GB in size and contains more 193M records.  The same dataset is available in Google Cloud as well, which can be accessed via big query.\n",
    "\n",
    "Below code shows how to access the data via big query\n",
    "\n",
    "Install Google Cloud Bigquery (API to connect to Google Big Query) and Pandas GBQ (for querying into Pandas Dataframe)"
   ]
  },
  {
   "cell_type": "code",
   "execution_count": 1,
   "metadata": {},
   "outputs": [],
   "source": [
    "#pip install --upgrade google-cloud-bigquery[pandas]\n",
    "#pip install --user pandas-gbq -U"
   ]
  },
  {
   "cell_type": "markdown",
   "metadata": {},
   "source": [
    "Import Required Libraries"
   ]
  },
  {
   "cell_type": "code",
   "execution_count": 2,
   "metadata": {},
   "outputs": [],
   "source": [
    "from google.cloud import bigquery\n",
    "import pandas as pd\n",
    "import pandas_gbq"
   ]
  },
  {
   "cell_type": "markdown",
   "metadata": {},
   "source": [
    "Set Environment variable for Google Credentials"
   ]
  },
  {
   "cell_type": "code",
   "execution_count": 3,
   "metadata": {},
   "outputs": [],
   "source": [
    "import os\n",
    "os.environ[\"GOOGLE_APPLICATION_CREDENTIALS\"] = os.getcwd() + \"/Key.json\""
   ]
  },
  {
   "cell_type": "markdown",
   "metadata": {},
   "source": [
    "Create Big Query Client"
   ]
  },
  {
   "cell_type": "code",
   "execution_count": 4,
   "metadata": {},
   "outputs": [],
   "source": [
    "bg_client = bigquery.Client(project='bigquery-public-data')"
   ]
  },
  {
   "cell_type": "markdown",
   "metadata": {},
   "source": [
    "Get the data set and display all the tables from the given dataset"
   ]
  },
  {
   "cell_type": "code",
   "execution_count": 5,
   "metadata": {},
   "outputs": [
    {
     "name": "stdout",
     "output_type": "stream",
     "text": [
      "taxi_trips\n"
     ]
    }
   ],
   "source": [
    "data_set_ref = bg_client.dataset('chicago_taxi_trips', project='bigquery-public-data')\n",
    "data_set = bg_client.get_dataset(data_set_ref)\n",
    "for tab in bg_client.list_tables(data_set):\n",
    "    print(tab.table_id)"
   ]
  },
  {
   "cell_type": "code",
   "execution_count": 5,
   "metadata": {
    "scrolled": true
   },
   "outputs": [
    {
     "name": "stdout",
     "output_type": "stream",
     "text": [
      "taxi_trips\n"
     ]
    }
   ],
   "source": []
  },
  {
   "cell_type": "markdown",
   "metadata": {},
   "source": [
    "List all the columns and the corresponding details for the given table"
   ]
  },
  {
   "cell_type": "code",
   "execution_count": 6,
   "metadata": {
    "scrolled": true
   },
   "outputs": [
    {
     "data": {
      "text/plain": [
       "[SchemaField('unique_key', 'STRING', 'REQUIRED', 'Unique identifier for the trip.', ()),\n",
       " SchemaField('taxi_id', 'STRING', 'REQUIRED', 'A unique identifier for the taxi.', ()),\n",
       " SchemaField('trip_start_timestamp', 'TIMESTAMP', 'NULLABLE', 'When the trip started, rounded to the nearest 15 minutes.', ()),\n",
       " SchemaField('trip_end_timestamp', 'TIMESTAMP', 'NULLABLE', 'When the trip ended, rounded to the nearest 15 minutes.', ()),\n",
       " SchemaField('trip_seconds', 'INTEGER', 'NULLABLE', 'Time of the trip in seconds.', ()),\n",
       " SchemaField('trip_miles', 'FLOAT', 'NULLABLE', 'Distance of the trip in miles.', ()),\n",
       " SchemaField('pickup_census_tract', 'INTEGER', 'NULLABLE', 'The Census Tract where the trip began. For privacy, this Census Tract is not shown for some trips.', ()),\n",
       " SchemaField('dropoff_census_tract', 'INTEGER', 'NULLABLE', 'The Census Tract where the trip ended. For privacy, this Census Tract is not shown for some trips.', ()),\n",
       " SchemaField('pickup_community_area', 'INTEGER', 'NULLABLE', 'The Community Area where the trip began.', ()),\n",
       " SchemaField('dropoff_community_area', 'INTEGER', 'NULLABLE', 'The Community Area where the trip ended.', ()),\n",
       " SchemaField('fare', 'FLOAT', 'NULLABLE', 'The fare for the trip.', ()),\n",
       " SchemaField('tips', 'FLOAT', 'NULLABLE', 'The tip for the trip. Cash tips generally will not be recorded.', ()),\n",
       " SchemaField('tolls', 'FLOAT', 'NULLABLE', 'The tolls for the trip.', ()),\n",
       " SchemaField('extras', 'FLOAT', 'NULLABLE', 'Extra charges for the trip.', ()),\n",
       " SchemaField('trip_total', 'FLOAT', 'NULLABLE', 'Total cost of the trip, the total of the fare, tips, tolls, and extras.', ()),\n",
       " SchemaField('payment_type', 'STRING', 'NULLABLE', 'Type of payment for the trip.', ()),\n",
       " SchemaField('company', 'STRING', 'NULLABLE', 'The taxi company.', ()),\n",
       " SchemaField('pickup_latitude', 'FLOAT', 'NULLABLE', 'The latitude of the center of the pickup census tract or the community area if the census tract has been hidden for privacy.', ()),\n",
       " SchemaField('pickup_longitude', 'FLOAT', 'NULLABLE', 'The longitude of the center of the pickup census tract or the community area if the census tract has been hidden for privacy.', ()),\n",
       " SchemaField('pickup_location', 'STRING', 'NULLABLE', 'The location of the center of the pickup census tract or the community area if the census tract has been hidden for privacy.', ()),\n",
       " SchemaField('dropoff_latitude', 'FLOAT', 'NULLABLE', 'The latitude of the center of the dropoff census tract or the community area if the census tract has been hidden for privacy.', ()),\n",
       " SchemaField('dropoff_longitude', 'FLOAT', 'NULLABLE', 'The longitude of the center of the dropoff census tract or the community area if the census tract has been hidden for privacy.', ()),\n",
       " SchemaField('dropoff_location', 'STRING', 'NULLABLE', 'The location of the center of the dropoff census tract or the community area if the census tract has been hidden for privacy.', ())]"
      ]
     },
     "execution_count": 6,
     "metadata": {},
     "output_type": "execute_result"
    }
   ],
   "source": [
    "tab = bg_client.get_table(data_set.table('taxi_trips'))\n",
    "tab.schema"
   ]
  },
  {
   "cell_type": "markdown",
   "metadata": {},
   "source": [
    "Get the total number of rows from the table"
   ]
  },
  {
   "cell_type": "code",
   "execution_count": 7,
   "metadata": {},
   "outputs": [
    {
     "data": {
      "text/plain": [
       "193151452"
      ]
     },
     "execution_count": 7,
     "metadata": {},
     "output_type": "execute_result"
    }
   ],
   "source": [
    "tab.num_rows"
   ]
  },
  {
   "cell_type": "markdown",
   "metadata": {},
   "source": [
    "Given there are more than 193 million rows, lets create a Sample query and assign the subset of data into Pandas Dataframe"
   ]
  },
  {
   "cell_type": "code",
   "execution_count": 8,
   "metadata": {
    "scrolled": true
   },
   "outputs": [
    {
     "name": "stderr",
     "output_type": "stream",
     "text": [
      "Downloading: 100%|██████████| 10/10 [00:00<00:00, 47.01rows/s]\n"
     ]
    },
    {
     "data": {
      "text/html": [
       "<div>\n",
       "<style scoped>\n",
       "    .dataframe tbody tr th:only-of-type {\n",
       "        vertical-align: middle;\n",
       "    }\n",
       "\n",
       "    .dataframe tbody tr th {\n",
       "        vertical-align: top;\n",
       "    }\n",
       "\n",
       "    .dataframe thead th {\n",
       "        text-align: right;\n",
       "    }\n",
       "</style>\n",
       "<table border=\"1\" class=\"dataframe\">\n",
       "  <thead>\n",
       "    <tr style=\"text-align: right;\">\n",
       "      <th></th>\n",
       "      <th>unique_key</th>\n",
       "      <th>taxi_id</th>\n",
       "      <th>trip_start_timestamp</th>\n",
       "      <th>trip_end_timestamp</th>\n",
       "      <th>trip_seconds</th>\n",
       "      <th>trip_miles</th>\n",
       "    </tr>\n",
       "  </thead>\n",
       "  <tbody>\n",
       "    <tr>\n",
       "      <th>0</th>\n",
       "      <td>af820d83a3ca0c0efd742073602eae8296511c64</td>\n",
       "      <td>31e64df976779ba4fa36cdff7e93b2e388e9d0dda8ec69...</td>\n",
       "      <td>2014-05-21 14:45:00+00:00</td>\n",
       "      <td>2014-05-21 14:45:00+00:00</td>\n",
       "      <td>0</td>\n",
       "      <td>0.0</td>\n",
       "    </tr>\n",
       "    <tr>\n",
       "      <th>1</th>\n",
       "      <td>1a6ea96ac0622cc493429534f90d8b092ea603e3</td>\n",
       "      <td>daf945fb8e25eb32a49824dda26e56441467cdb86f7d9d...</td>\n",
       "      <td>2014-04-17 17:00:00+00:00</td>\n",
       "      <td>2014-04-17 17:00:00+00:00</td>\n",
       "      <td>0</td>\n",
       "      <td>0.0</td>\n",
       "    </tr>\n",
       "    <tr>\n",
       "      <th>2</th>\n",
       "      <td>136ec0dd2ba1b2d387f3df6a6703e0a3b1f0b0c9</td>\n",
       "      <td>c069b62695a13c54d43a5208353bcfc999dc9548f71041...</td>\n",
       "      <td>2014-06-21 01:45:00+00:00</td>\n",
       "      <td>2014-06-21 01:45:00+00:00</td>\n",
       "      <td>0</td>\n",
       "      <td>0.0</td>\n",
       "    </tr>\n",
       "    <tr>\n",
       "      <th>3</th>\n",
       "      <td>26f85de01e046e0d243665af019db87617ade589</td>\n",
       "      <td>249ef6f75a49feebb50f4bc68cf7ba703c4006498c63b6...</td>\n",
       "      <td>2014-05-14 13:00:00+00:00</td>\n",
       "      <td>2014-05-14 13:00:00+00:00</td>\n",
       "      <td>0</td>\n",
       "      <td>0.0</td>\n",
       "    </tr>\n",
       "    <tr>\n",
       "      <th>4</th>\n",
       "      <td>004869f23f2662487ac1a12a0921710bb2e0a36a</td>\n",
       "      <td>6bece81c8b02e5631185bb018734a4c6f31b1db05d14f6...</td>\n",
       "      <td>2014-05-13 15:00:00+00:00</td>\n",
       "      <td>2014-05-13 15:00:00+00:00</td>\n",
       "      <td>0</td>\n",
       "      <td>0.0</td>\n",
       "    </tr>\n",
       "    <tr>\n",
       "      <th>5</th>\n",
       "      <td>912a2edda71d9d502a6a8680b2282baf9a6e7425</td>\n",
       "      <td>f8d3b9a91df83387f39b14924f52dc76b879eb5c27ea76...</td>\n",
       "      <td>2014-05-24 20:45:00+00:00</td>\n",
       "      <td>2014-05-24 20:45:00+00:00</td>\n",
       "      <td>0</td>\n",
       "      <td>0.0</td>\n",
       "    </tr>\n",
       "    <tr>\n",
       "      <th>6</th>\n",
       "      <td>836cf7729e1f73ddfc88ee5bdb9de13b58db22e0</td>\n",
       "      <td>2a01a33af1d2c0d4dfe3a39e46fc6dc8070d1ae4c532e6...</td>\n",
       "      <td>2014-06-20 20:30:00+00:00</td>\n",
       "      <td>2014-06-20 20:30:00+00:00</td>\n",
       "      <td>60</td>\n",
       "      <td>0.0</td>\n",
       "    </tr>\n",
       "    <tr>\n",
       "      <th>7</th>\n",
       "      <td>2b88d16d33b0d931f7ee27a5e8135a07bd7a7990</td>\n",
       "      <td>4c8b6783201bdc422fd78043aceeea92a005af4c37bba7...</td>\n",
       "      <td>2015-05-04 14:00:00+00:00</td>\n",
       "      <td>2015-05-04 14:00:00+00:00</td>\n",
       "      <td>420</td>\n",
       "      <td>0.0</td>\n",
       "    </tr>\n",
       "    <tr>\n",
       "      <th>8</th>\n",
       "      <td>0f51d320ba30e09b8b03af031acfa04d95dcad74</td>\n",
       "      <td>e42e04fdf9a0e3051134941539806a37a413ddc9289287...</td>\n",
       "      <td>2014-04-22 11:15:00+00:00</td>\n",
       "      <td>2014-04-22 11:15:00+00:00</td>\n",
       "      <td>0</td>\n",
       "      <td>0.0</td>\n",
       "    </tr>\n",
       "    <tr>\n",
       "      <th>9</th>\n",
       "      <td>a046a61f9dfd07bc4766adccc1e79c8501f092f8</td>\n",
       "      <td>8001d19894ae43c347584201b713ceb2daf35eeb9bdc77...</td>\n",
       "      <td>2014-04-17 11:30:00+00:00</td>\n",
       "      <td>2014-04-17 11:30:00+00:00</td>\n",
       "      <td>0</td>\n",
       "      <td>0.0</td>\n",
       "    </tr>\n",
       "  </tbody>\n",
       "</table>\n",
       "</div>"
      ],
      "text/plain": [
       "                                 unique_key  \\\n",
       "0  af820d83a3ca0c0efd742073602eae8296511c64   \n",
       "1  1a6ea96ac0622cc493429534f90d8b092ea603e3   \n",
       "2  136ec0dd2ba1b2d387f3df6a6703e0a3b1f0b0c9   \n",
       "3  26f85de01e046e0d243665af019db87617ade589   \n",
       "4  004869f23f2662487ac1a12a0921710bb2e0a36a   \n",
       "5  912a2edda71d9d502a6a8680b2282baf9a6e7425   \n",
       "6  836cf7729e1f73ddfc88ee5bdb9de13b58db22e0   \n",
       "7  2b88d16d33b0d931f7ee27a5e8135a07bd7a7990   \n",
       "8  0f51d320ba30e09b8b03af031acfa04d95dcad74   \n",
       "9  a046a61f9dfd07bc4766adccc1e79c8501f092f8   \n",
       "\n",
       "                                             taxi_id  \\\n",
       "0  31e64df976779ba4fa36cdff7e93b2e388e9d0dda8ec69...   \n",
       "1  daf945fb8e25eb32a49824dda26e56441467cdb86f7d9d...   \n",
       "2  c069b62695a13c54d43a5208353bcfc999dc9548f71041...   \n",
       "3  249ef6f75a49feebb50f4bc68cf7ba703c4006498c63b6...   \n",
       "4  6bece81c8b02e5631185bb018734a4c6f31b1db05d14f6...   \n",
       "5  f8d3b9a91df83387f39b14924f52dc76b879eb5c27ea76...   \n",
       "6  2a01a33af1d2c0d4dfe3a39e46fc6dc8070d1ae4c532e6...   \n",
       "7  4c8b6783201bdc422fd78043aceeea92a005af4c37bba7...   \n",
       "8  e42e04fdf9a0e3051134941539806a37a413ddc9289287...   \n",
       "9  8001d19894ae43c347584201b713ceb2daf35eeb9bdc77...   \n",
       "\n",
       "       trip_start_timestamp        trip_end_timestamp  trip_seconds  \\\n",
       "0 2014-05-21 14:45:00+00:00 2014-05-21 14:45:00+00:00             0   \n",
       "1 2014-04-17 17:00:00+00:00 2014-04-17 17:00:00+00:00             0   \n",
       "2 2014-06-21 01:45:00+00:00 2014-06-21 01:45:00+00:00             0   \n",
       "3 2014-05-14 13:00:00+00:00 2014-05-14 13:00:00+00:00             0   \n",
       "4 2014-05-13 15:00:00+00:00 2014-05-13 15:00:00+00:00             0   \n",
       "5 2014-05-24 20:45:00+00:00 2014-05-24 20:45:00+00:00             0   \n",
       "6 2014-06-20 20:30:00+00:00 2014-06-20 20:30:00+00:00            60   \n",
       "7 2015-05-04 14:00:00+00:00 2015-05-04 14:00:00+00:00           420   \n",
       "8 2014-04-22 11:15:00+00:00 2014-04-22 11:15:00+00:00             0   \n",
       "9 2014-04-17 11:30:00+00:00 2014-04-17 11:30:00+00:00             0   \n",
       "\n",
       "   trip_miles  \n",
       "0         0.0  \n",
       "1         0.0  \n",
       "2         0.0  \n",
       "3         0.0  \n",
       "4         0.0  \n",
       "5         0.0  \n",
       "6         0.0  \n",
       "7         0.0  \n",
       "8         0.0  \n",
       "9         0.0  "
      ]
     },
     "execution_count": 8,
     "metadata": {},
     "output_type": "execute_result"
    }
   ],
   "source": [
    "QUERY = \"\"\"\n",
    "    SELECT \n",
    "    unique_key, taxi_id, trip_start_timestamp, trip_end_timestamp, trip_seconds, trip_miles\n",
    "FROM `bigquery-public-data.chicago_taxi_trips.taxi_trips`\n",
    "LIMIT 10\n",
    "        \"\"\"\n",
    "df=pd.read_gbq(QUERY)\n",
    "df"
   ]
  }
 ],
 "metadata": {
  "kernelspec": {
   "display_name": "Python 3",
   "language": "python",
   "name": "python3"
  },
  "language_info": {
   "codemirror_mode": {
    "name": "ipython",
    "version": 3
   },
   "file_extension": ".py",
   "mimetype": "text/x-python",
   "name": "python",
   "nbconvert_exporter": "python",
   "pygments_lexer": "ipython3",
   "version": "3.7.6"
  }
 },
 "nbformat": 4,
 "nbformat_minor": 4
}
