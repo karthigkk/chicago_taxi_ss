{
 "cells": [
  {
   "cell_type": "markdown",
   "metadata": {},
   "source": [
    "Import Required Libraries"
   ]
  },
  {
   "cell_type": "code",
   "execution_count": 1,
   "metadata": {},
   "outputs": [],
   "source": [
    "from google.cloud import bigquery\n",
    "import pandas as pd\n",
    "import pandas_gbq\n",
    "from sklearn.model_selection import train_test_split\n",
    "import numpy as np\n",
    "from sklearn.preprocessing import MinMaxScaler\n",
    "from tensorflow.keras.models import Sequential\n",
    "from tensorflow.keras.layers import Dense"
   ]
  },
  {
   "cell_type": "markdown",
   "metadata": {},
   "source": [
    "Set Environment variable for Google Credentials"
   ]
  },
  {
   "cell_type": "code",
   "execution_count": 2,
   "metadata": {},
   "outputs": [],
   "source": [
    "import os\n",
    "os.environ[\"GOOGLE_APPLICATION_CREDENTIALS\"] = \"/Users/karthikeyangurusamy/Documents/GCP/key.json\""
   ]
  },
  {
   "cell_type": "markdown",
   "metadata": {},
   "source": [
    "Create Big Query Client"
   ]
  },
  {
   "cell_type": "code",
   "execution_count": 3,
   "metadata": {},
   "outputs": [],
   "source": [
    "bg_client = bigquery.Client(project='bigquery-public-data')"
   ]
  },
  {
   "cell_type": "markdown",
   "metadata": {},
   "source": [
    "Get the data set and display all the tables from the given dataset"
   ]
  },
  {
   "cell_type": "code",
   "execution_count": 4,
   "metadata": {
    "scrolled": true
   },
   "outputs": [
    {
     "name": "stdout",
     "output_type": "stream",
     "text": [
      "taxi_trips\n"
     ]
    }
   ],
   "source": [
    "data_set_ref = bg_client.dataset('chicago_taxi_trips', project='bigquery-public-data')\n",
    "data_set = bg_client.get_dataset(data_set_ref)\n",
    "for tab in bg_client.list_tables(data_set):\n",
    "    print(tab.table_id)"
   ]
  },
  {
   "cell_type": "markdown",
   "metadata": {},
   "source": [
    "List all the columns and the corresponding details for the given table"
   ]
  },
  {
   "cell_type": "code",
   "execution_count": 5,
   "metadata": {
    "scrolled": true
   },
   "outputs": [
    {
     "data": {
      "text/plain": [
       "[SchemaField('unique_key', 'STRING', 'REQUIRED', 'Unique identifier for the trip.', (), None),\n",
       " SchemaField('taxi_id', 'STRING', 'REQUIRED', 'A unique identifier for the taxi.', (), None),\n",
       " SchemaField('trip_start_timestamp', 'TIMESTAMP', 'NULLABLE', 'When the trip started, rounded to the nearest 15 minutes.', (), None),\n",
       " SchemaField('trip_end_timestamp', 'TIMESTAMP', 'NULLABLE', 'When the trip ended, rounded to the nearest 15 minutes.', (), None),\n",
       " SchemaField('trip_seconds', 'INTEGER', 'NULLABLE', 'Time of the trip in seconds.', (), None),\n",
       " SchemaField('trip_miles', 'FLOAT', 'NULLABLE', 'Distance of the trip in miles.', (), None),\n",
       " SchemaField('pickup_census_tract', 'INTEGER', 'NULLABLE', 'The Census Tract where the trip began. For privacy, this Census Tract is not shown for some trips.', (), None),\n",
       " SchemaField('dropoff_census_tract', 'INTEGER', 'NULLABLE', 'The Census Tract where the trip ended. For privacy, this Census Tract is not shown for some trips.', (), None),\n",
       " SchemaField('pickup_community_area', 'INTEGER', 'NULLABLE', 'The Community Area where the trip began.', (), None),\n",
       " SchemaField('dropoff_community_area', 'INTEGER', 'NULLABLE', 'The Community Area where the trip ended.', (), None),\n",
       " SchemaField('fare', 'FLOAT', 'NULLABLE', 'The fare for the trip.', (), None),\n",
       " SchemaField('tips', 'FLOAT', 'NULLABLE', 'The tip for the trip. Cash tips generally will not be recorded.', (), None),\n",
       " SchemaField('tolls', 'FLOAT', 'NULLABLE', 'The tolls for the trip.', (), None),\n",
       " SchemaField('extras', 'FLOAT', 'NULLABLE', 'Extra charges for the trip.', (), None),\n",
       " SchemaField('trip_total', 'FLOAT', 'NULLABLE', 'Total cost of the trip, the total of the fare, tips, tolls, and extras.', (), None),\n",
       " SchemaField('payment_type', 'STRING', 'NULLABLE', 'Type of payment for the trip.', (), None),\n",
       " SchemaField('company', 'STRING', 'NULLABLE', 'The taxi company.', (), None),\n",
       " SchemaField('pickup_latitude', 'FLOAT', 'NULLABLE', 'The latitude of the center of the pickup census tract or the community area if the census tract has been hidden for privacy.', (), None),\n",
       " SchemaField('pickup_longitude', 'FLOAT', 'NULLABLE', 'The longitude of the center of the pickup census tract or the community area if the census tract has been hidden for privacy.', (), None),\n",
       " SchemaField('pickup_location', 'STRING', 'NULLABLE', 'The location of the center of the pickup census tract or the community area if the census tract has been hidden for privacy.', (), None),\n",
       " SchemaField('dropoff_latitude', 'FLOAT', 'NULLABLE', 'The latitude of the center of the dropoff census tract or the community area if the census tract has been hidden for privacy.', (), None),\n",
       " SchemaField('dropoff_longitude', 'FLOAT', 'NULLABLE', 'The longitude of the center of the dropoff census tract or the community area if the census tract has been hidden for privacy.', (), None),\n",
       " SchemaField('dropoff_location', 'STRING', 'NULLABLE', 'The location of the center of the dropoff census tract or the community area if the census tract has been hidden for privacy.', (), None)]"
      ]
     },
     "execution_count": 5,
     "metadata": {},
     "output_type": "execute_result"
    }
   ],
   "source": [
    "tab = bg_client.get_table(data_set.table('taxi_trips'))\n",
    "tab.schema"
   ]
  },
  {
   "cell_type": "code",
   "execution_count": 6,
   "metadata": {},
   "outputs": [
    {
     "data": {
      "text/plain": [
       "194212416"
      ]
     },
     "execution_count": 6,
     "metadata": {},
     "output_type": "execute_result"
    }
   ],
   "source": [
    "tab.num_rows"
   ]
  },
  {
   "cell_type": "markdown",
   "metadata": {},
   "source": [
    "Create a Sample query and assign the data into Pandas Dataframe"
   ]
  },
  {
   "cell_type": "code",
   "execution_count": 7,
   "metadata": {
    "scrolled": true
   },
   "outputs": [
    {
     "name": "stderr",
     "output_type": "stream",
     "text": [
      "Downloading: 100%|██████████| 8/8 [00:00<00:00, 21.22rows/s]\n"
     ]
    },
    {
     "data": {
      "text/html": [
       "<div>\n",
       "<style scoped>\n",
       "    .dataframe tbody tr th:only-of-type {\n",
       "        vertical-align: middle;\n",
       "    }\n",
       "\n",
       "    .dataframe tbody tr th {\n",
       "        vertical-align: top;\n",
       "    }\n",
       "\n",
       "    .dataframe thead th {\n",
       "        text-align: right;\n",
       "    }\n",
       "</style>\n",
       "<table border=\"1\" class=\"dataframe\">\n",
       "  <thead>\n",
       "    <tr style=\"text-align: right;\">\n",
       "      <th></th>\n",
       "      <th>YEAR</th>\n",
       "      <th>TRIPS</th>\n",
       "    </tr>\n",
       "  </thead>\n",
       "  <tbody>\n",
       "    <tr>\n",
       "      <th>0</th>\n",
       "      <td>2019</td>\n",
       "      <td>16477365</td>\n",
       "    </tr>\n",
       "    <tr>\n",
       "      <th>1</th>\n",
       "      <td>2013</td>\n",
       "      <td>27217716</td>\n",
       "    </tr>\n",
       "    <tr>\n",
       "      <th>2</th>\n",
       "      <td>2017</td>\n",
       "      <td>24988003</td>\n",
       "    </tr>\n",
       "    <tr>\n",
       "      <th>3</th>\n",
       "      <td>2015</td>\n",
       "      <td>32385875</td>\n",
       "    </tr>\n",
       "    <tr>\n",
       "      <th>4</th>\n",
       "      <td>2014</td>\n",
       "      <td>37395436</td>\n",
       "    </tr>\n",
       "    <tr>\n",
       "      <th>5</th>\n",
       "      <td>2016</td>\n",
       "      <td>31759339</td>\n",
       "    </tr>\n",
       "    <tr>\n",
       "      <th>6</th>\n",
       "      <td>2018</td>\n",
       "      <td>20732088</td>\n",
       "    </tr>\n",
       "    <tr>\n",
       "      <th>7</th>\n",
       "      <td>2020</td>\n",
       "      <td>3256594</td>\n",
       "    </tr>\n",
       "  </tbody>\n",
       "</table>\n",
       "</div>"
      ],
      "text/plain": [
       "   YEAR     TRIPS\n",
       "0  2019  16477365\n",
       "1  2013  27217716\n",
       "2  2017  24988003\n",
       "3  2015  32385875\n",
       "4  2014  37395436\n",
       "5  2016  31759339\n",
       "6  2018  20732088\n",
       "7  2020   3256594"
      ]
     },
     "execution_count": 7,
     "metadata": {},
     "output_type": "execute_result"
    }
   ],
   "source": [
    "QUERY = \"\"\"\n",
    "    SELECT EXTRACT(YEAR FROM trip_start_timestamp) AS YEAR, COUNT(unique_key) as TRIPS\n",
    "    FROM `bigquery-public-data.chicago_taxi_trips.taxi_trips`\n",
    "    GROUP BY YEAR\n",
    "        \"\"\"\n",
    "df=pd.read_gbq(QUERY)\n",
    "df"
   ]
  },
  {
   "cell_type": "markdown",
   "metadata": {},
   "source": [
    "# Get Data"
   ]
  },
  {
   "cell_type": "markdown",
   "metadata": {},
   "source": [
    "Lets take the data corresponding to Feb-2020 to build a base model"
   ]
  },
  {
   "cell_type": "code",
   "execution_count": 8,
   "metadata": {
    "scrolled": true
   },
   "outputs": [
    {
     "name": "stderr",
     "output_type": "stream",
     "text": [
      "Downloading: 100%|██████████| 1122124/1122124 [04:27<00:00, 4187.36rows/s]\n"
     ]
    },
    {
     "data": {
      "text/html": [
       "<div>\n",
       "<style scoped>\n",
       "    .dataframe tbody tr th:only-of-type {\n",
       "        vertical-align: middle;\n",
       "    }\n",
       "\n",
       "    .dataframe tbody tr th {\n",
       "        vertical-align: top;\n",
       "    }\n",
       "\n",
       "    .dataframe thead th {\n",
       "        text-align: right;\n",
       "    }\n",
       "</style>\n",
       "<table border=\"1\" class=\"dataframe\">\n",
       "  <thead>\n",
       "    <tr style=\"text-align: right;\">\n",
       "      <th></th>\n",
       "      <th>unique_key</th>\n",
       "      <th>taxi_id</th>\n",
       "      <th>trip_start_timestamp</th>\n",
       "      <th>trip_end_timestamp</th>\n",
       "      <th>trip_seconds</th>\n",
       "      <th>trip_miles</th>\n",
       "      <th>pickup_census_tract</th>\n",
       "      <th>dropoff_census_tract</th>\n",
       "      <th>pickup_community_area</th>\n",
       "      <th>dropoff_community_area</th>\n",
       "      <th>...</th>\n",
       "      <th>extras</th>\n",
       "      <th>trip_total</th>\n",
       "      <th>payment_type</th>\n",
       "      <th>company</th>\n",
       "      <th>pickup_latitude</th>\n",
       "      <th>pickup_longitude</th>\n",
       "      <th>pickup_location</th>\n",
       "      <th>dropoff_latitude</th>\n",
       "      <th>dropoff_longitude</th>\n",
       "      <th>dropoff_location</th>\n",
       "    </tr>\n",
       "  </thead>\n",
       "  <tbody>\n",
       "    <tr>\n",
       "      <th>0</th>\n",
       "      <td>ba8e167fd614d76bec89951efc3c2439e321e767</td>\n",
       "      <td>f1ed8794238deb1c8f7c3759aa096ae20e3e769cc4c9ad...</td>\n",
       "      <td>2020-02-01 00:00:00+00:00</td>\n",
       "      <td>2020-02-01 00:15:00+00:00</td>\n",
       "      <td>593.0</td>\n",
       "      <td>2.8</td>\n",
       "      <td>NaN</td>\n",
       "      <td>NaN</td>\n",
       "      <td>76.0</td>\n",
       "      <td>NaN</td>\n",
       "      <td>...</td>\n",
       "      <td>4.0</td>\n",
       "      <td>17.70</td>\n",
       "      <td>Credit Card</td>\n",
       "      <td>Metro Jet Taxi A</td>\n",
       "      <td>41.980264</td>\n",
       "      <td>-87.913625</td>\n",
       "      <td>POINT (-87.913624596 41.9802643146)</td>\n",
       "      <td>NaN</td>\n",
       "      <td>NaN</td>\n",
       "      <td>None</td>\n",
       "    </tr>\n",
       "    <tr>\n",
       "      <th>1</th>\n",
       "      <td>70ad9e34b0a373e0bed335bf92552548d2a9b6ee</td>\n",
       "      <td>e45877a53e727ebec449c17f0835d75f2f527435559fd9...</td>\n",
       "      <td>2020-02-01 00:00:00+00:00</td>\n",
       "      <td>2020-02-01 00:00:00+00:00</td>\n",
       "      <td>780.0</td>\n",
       "      <td>3.6</td>\n",
       "      <td>NaN</td>\n",
       "      <td>NaN</td>\n",
       "      <td>8.0</td>\n",
       "      <td>24.0</td>\n",
       "      <td>...</td>\n",
       "      <td>1.0</td>\n",
       "      <td>13.75</td>\n",
       "      <td>Cash</td>\n",
       "      <td>Taxi Affiliation Services</td>\n",
       "      <td>41.899602</td>\n",
       "      <td>-87.633308</td>\n",
       "      <td>POINT (-87.6333080367 41.899602111)</td>\n",
       "      <td>41.901207</td>\n",
       "      <td>-87.676356</td>\n",
       "      <td>POINT (-87.6763559892 41.9012069941)</td>\n",
       "    </tr>\n",
       "    <tr>\n",
       "      <th>2</th>\n",
       "      <td>4e5173d8c0b558afba1d488e4679d90ad4eda307</td>\n",
       "      <td>de3382b499da313268a07eae4c95991b625d16a41af1ff...</td>\n",
       "      <td>2020-02-01 00:00:00+00:00</td>\n",
       "      <td>2020-02-01 00:00:00+00:00</td>\n",
       "      <td>420.0</td>\n",
       "      <td>0.0</td>\n",
       "      <td>NaN</td>\n",
       "      <td>NaN</td>\n",
       "      <td>8.0</td>\n",
       "      <td>32.0</td>\n",
       "      <td>...</td>\n",
       "      <td>1.0</td>\n",
       "      <td>8.50</td>\n",
       "      <td>Cash</td>\n",
       "      <td>Taxi Affiliation Services</td>\n",
       "      <td>41.899602</td>\n",
       "      <td>-87.633308</td>\n",
       "      <td>POINT (-87.6333080367 41.899602111)</td>\n",
       "      <td>41.878866</td>\n",
       "      <td>-87.625192</td>\n",
       "      <td>POINT (-87.6251921424 41.8788655841)</td>\n",
       "    </tr>\n",
       "    <tr>\n",
       "      <th>3</th>\n",
       "      <td>af1e6f3a4b3b0a2d981fd6493d80fcc3fd6f0ffd</td>\n",
       "      <td>51d13e9ec1a04be36d87a3746e0e4f8c68ca5ed59e6f7a...</td>\n",
       "      <td>2020-02-01 00:00:00+00:00</td>\n",
       "      <td>2020-02-01 00:00:00+00:00</td>\n",
       "      <td>710.0</td>\n",
       "      <td>1.8</td>\n",
       "      <td>NaN</td>\n",
       "      <td>NaN</td>\n",
       "      <td>8.0</td>\n",
       "      <td>8.0</td>\n",
       "      <td>...</td>\n",
       "      <td>1.0</td>\n",
       "      <td>9.75</td>\n",
       "      <td>Cash</td>\n",
       "      <td>City Service</td>\n",
       "      <td>41.899602</td>\n",
       "      <td>-87.633308</td>\n",
       "      <td>POINT (-87.6333080367 41.899602111)</td>\n",
       "      <td>41.899602</td>\n",
       "      <td>-87.633308</td>\n",
       "      <td>POINT (-87.6333080367 41.899602111)</td>\n",
       "    </tr>\n",
       "    <tr>\n",
       "      <th>4</th>\n",
       "      <td>c085286c289f4d2d20b6991bff839875aabb74bd</td>\n",
       "      <td>d4578429775c32e03fb5139e1d132b91be7e27af9675e7...</td>\n",
       "      <td>2020-02-01 00:00:00+00:00</td>\n",
       "      <td>2020-02-01 00:15:00+00:00</td>\n",
       "      <td>600.0</td>\n",
       "      <td>1.4</td>\n",
       "      <td>NaN</td>\n",
       "      <td>NaN</td>\n",
       "      <td>28.0</td>\n",
       "      <td>8.0</td>\n",
       "      <td>...</td>\n",
       "      <td>0.0</td>\n",
       "      <td>10.00</td>\n",
       "      <td>Credit Card</td>\n",
       "      <td>Taxi Affiliation Services</td>\n",
       "      <td>41.874005</td>\n",
       "      <td>-87.663518</td>\n",
       "      <td>POINT (-87.6635175498 41.874005383)</td>\n",
       "      <td>41.899602</td>\n",
       "      <td>-87.633308</td>\n",
       "      <td>POINT (-87.6333080367 41.899602111)</td>\n",
       "    </tr>\n",
       "  </tbody>\n",
       "</table>\n",
       "<p>5 rows × 23 columns</p>\n",
       "</div>"
      ],
      "text/plain": [
       "                                 unique_key  \\\n",
       "0  ba8e167fd614d76bec89951efc3c2439e321e767   \n",
       "1  70ad9e34b0a373e0bed335bf92552548d2a9b6ee   \n",
       "2  4e5173d8c0b558afba1d488e4679d90ad4eda307   \n",
       "3  af1e6f3a4b3b0a2d981fd6493d80fcc3fd6f0ffd   \n",
       "4  c085286c289f4d2d20b6991bff839875aabb74bd   \n",
       "\n",
       "                                             taxi_id  \\\n",
       "0  f1ed8794238deb1c8f7c3759aa096ae20e3e769cc4c9ad...   \n",
       "1  e45877a53e727ebec449c17f0835d75f2f527435559fd9...   \n",
       "2  de3382b499da313268a07eae4c95991b625d16a41af1ff...   \n",
       "3  51d13e9ec1a04be36d87a3746e0e4f8c68ca5ed59e6f7a...   \n",
       "4  d4578429775c32e03fb5139e1d132b91be7e27af9675e7...   \n",
       "\n",
       "       trip_start_timestamp        trip_end_timestamp  trip_seconds  \\\n",
       "0 2020-02-01 00:00:00+00:00 2020-02-01 00:15:00+00:00         593.0   \n",
       "1 2020-02-01 00:00:00+00:00 2020-02-01 00:00:00+00:00         780.0   \n",
       "2 2020-02-01 00:00:00+00:00 2020-02-01 00:00:00+00:00         420.0   \n",
       "3 2020-02-01 00:00:00+00:00 2020-02-01 00:00:00+00:00         710.0   \n",
       "4 2020-02-01 00:00:00+00:00 2020-02-01 00:15:00+00:00         600.0   \n",
       "\n",
       "   trip_miles  pickup_census_tract  dropoff_census_tract  \\\n",
       "0         2.8                  NaN                   NaN   \n",
       "1         3.6                  NaN                   NaN   \n",
       "2         0.0                  NaN                   NaN   \n",
       "3         1.8                  NaN                   NaN   \n",
       "4         1.4                  NaN                   NaN   \n",
       "\n",
       "   pickup_community_area  dropoff_community_area  ...  extras  trip_total  \\\n",
       "0                   76.0                     NaN  ...     4.0       17.70   \n",
       "1                    8.0                    24.0  ...     1.0       13.75   \n",
       "2                    8.0                    32.0  ...     1.0        8.50   \n",
       "3                    8.0                     8.0  ...     1.0        9.75   \n",
       "4                   28.0                     8.0  ...     0.0       10.00   \n",
       "\n",
       "   payment_type                    company  pickup_latitude pickup_longitude  \\\n",
       "0   Credit Card           Metro Jet Taxi A        41.980264       -87.913625   \n",
       "1          Cash  Taxi Affiliation Services        41.899602       -87.633308   \n",
       "2          Cash  Taxi Affiliation Services        41.899602       -87.633308   \n",
       "3          Cash               City Service        41.899602       -87.633308   \n",
       "4   Credit Card  Taxi Affiliation Services        41.874005       -87.663518   \n",
       "\n",
       "                       pickup_location  dropoff_latitude  dropoff_longitude  \\\n",
       "0  POINT (-87.913624596 41.9802643146)               NaN                NaN   \n",
       "1  POINT (-87.6333080367 41.899602111)         41.901207         -87.676356   \n",
       "2  POINT (-87.6333080367 41.899602111)         41.878866         -87.625192   \n",
       "3  POINT (-87.6333080367 41.899602111)         41.899602         -87.633308   \n",
       "4  POINT (-87.6635175498 41.874005383)         41.899602         -87.633308   \n",
       "\n",
       "                       dropoff_location  \n",
       "0                                  None  \n",
       "1  POINT (-87.6763559892 41.9012069941)  \n",
       "2  POINT (-87.6251921424 41.8788655841)  \n",
       "3   POINT (-87.6333080367 41.899602111)  \n",
       "4   POINT (-87.6333080367 41.899602111)  \n",
       "\n",
       "[5 rows x 23 columns]"
      ]
     },
     "execution_count": 8,
     "metadata": {},
     "output_type": "execute_result"
    }
   ],
   "source": [
    "QUERY = \"\"\"\n",
    "    SELECT *\n",
    "    FROM `bigquery-public-data.chicago_taxi_trips.taxi_trips`\n",
    "    WHERE EXTRACT(YEAR FROM trip_start_timestamp) = 2020\n",
    "    AND EXTRACT(MONTH FROM trip_start_timestamp) = 2\n",
    "    \"\"\"\n",
    "\n",
    "df=pd.read_gbq(QUERY)\n",
    "df.head(5)"
   ]
  },
  {
   "cell_type": "code",
   "execution_count": 9,
   "metadata": {
    "scrolled": true
   },
   "outputs": [
    {
     "name": "stdout",
     "output_type": "stream",
     "text": [
      "<class 'pandas.core.frame.DataFrame'>\n",
      "RangeIndex: 1122124 entries, 0 to 1122123\n",
      "Data columns (total 23 columns):\n",
      " #   Column                  Non-Null Count    Dtype              \n",
      "---  ------                  --------------    -----              \n",
      " 0   unique_key              1122124 non-null  object             \n",
      " 1   taxi_id                 1122124 non-null  object             \n",
      " 2   trip_start_timestamp    1122124 non-null  datetime64[ns, UTC]\n",
      " 3   trip_end_timestamp      1122076 non-null  datetime64[ns, UTC]\n",
      " 4   trip_seconds            1121943 non-null  float64            \n",
      " 5   trip_miles              1122118 non-null  float64            \n",
      " 6   pickup_census_tract     711601 non-null   float64            \n",
      " 7   dropoff_census_tract    709129 non-null   float64            \n",
      " 8   pickup_community_area   1042701 non-null  float64            \n",
      " 9   dropoff_community_area  1021866 non-null  float64            \n",
      " 10  fare                    1122014 non-null  float64            \n",
      " 11  tips                    1122014 non-null  float64            \n",
      " 12  tolls                   1122014 non-null  float64            \n",
      " 13  extras                  1122014 non-null  float64            \n",
      " 14  trip_total              1122014 non-null  float64            \n",
      " 15  payment_type            1122124 non-null  object             \n",
      " 16  company                 1122124 non-null  object             \n",
      " 17  pickup_latitude         1042806 non-null  float64            \n",
      " 18  pickup_longitude        1042806 non-null  float64            \n",
      " 19  pickup_location         1042806 non-null  object             \n",
      " 20  dropoff_latitude        1024316 non-null  float64            \n",
      " 21  dropoff_longitude       1024316 non-null  float64            \n",
      " 22  dropoff_location        1024316 non-null  object             \n",
      "dtypes: datetime64[ns, UTC](2), float64(15), object(6)\n",
      "memory usage: 196.9+ MB\n"
     ]
    }
   ],
   "source": [
    "df.info()"
   ]
  },
  {
   "cell_type": "markdown",
   "metadata": {},
   "source": [
    "For Model purpose, lets choose only the below fields\n",
    "1. trip_start_timestamp\n",
    "2. pickup_latitude, pickup_longitude\n",
    "3. dropoff_latitude, dropoff_longitude\n",
    "4. compare\n",
    "5. fare - This field will be our label to predict"
   ]
  },
  {
   "cell_type": "code",
   "execution_count": 10,
   "metadata": {},
   "outputs": [
    {
     "name": "stdout",
     "output_type": "stream",
     "text": [
      "<class 'pandas.core.frame.DataFrame'>\n",
      "RangeIndex: 1122124 entries, 0 to 1122123\n",
      "Data columns (total 7 columns):\n",
      " #   Column                Non-Null Count    Dtype              \n",
      "---  ------                --------------    -----              \n",
      " 0   trip_start_timestamp  1122124 non-null  datetime64[ns, UTC]\n",
      " 1   pickup_latitude       1042806 non-null  float64            \n",
      " 2   pickup_longitude      1042806 non-null  float64            \n",
      " 3   dropoff_latitude      1024316 non-null  float64            \n",
      " 4   dropoff_longitude     1024316 non-null  float64            \n",
      " 5   company               1122124 non-null  object             \n",
      " 6   fare                  1122014 non-null  float64            \n",
      "dtypes: datetime64[ns, UTC](1), float64(5), object(1)\n",
      "memory usage: 59.9+ MB\n"
     ]
    }
   ],
   "source": [
    "df_for_model = df[['trip_start_timestamp','pickup_latitude','pickup_longitude','dropoff_latitude','dropoff_longitude','company','fare']]\n",
    "df_for_model.info()"
   ]
  },
  {
   "cell_type": "code",
   "execution_count": 11,
   "metadata": {},
   "outputs": [
    {
     "name": "stdout",
     "output_type": "stream",
     "text": [
      "<class 'pandas.core.frame.DataFrame'>\n",
      "Int64Index: 1010127 entries, 1 to 1122123\n",
      "Data columns (total 7 columns):\n",
      " #   Column                Non-Null Count    Dtype              \n",
      "---  ------                --------------    -----              \n",
      " 0   trip_start_timestamp  1010127 non-null  datetime64[ns, UTC]\n",
      " 1   pickup_latitude       1010127 non-null  float64            \n",
      " 2   pickup_longitude      1010127 non-null  float64            \n",
      " 3   dropoff_latitude      1010127 non-null  float64            \n",
      " 4   dropoff_longitude     1010127 non-null  float64            \n",
      " 5   company               1010127 non-null  object             \n",
      " 6   fare                  1010127 non-null  float64            \n",
      "dtypes: datetime64[ns, UTC](1), float64(5), object(1)\n",
      "memory usage: 61.7+ MB\n"
     ]
    }
   ],
   "source": [
    "df_for_model=df_for_model.dropna()\n",
    "df_for_model.info()"
   ]
  },
  {
   "cell_type": "markdown",
   "metadata": {},
   "source": [
    "Set Jupyter notbook to display all fields"
   ]
  },
  {
   "cell_type": "code",
   "execution_count": 12,
   "metadata": {},
   "outputs": [],
   "source": [
    "pd.options.display.max_columns = None"
   ]
  },
  {
   "cell_type": "markdown",
   "metadata": {},
   "source": [
    "Find if we have any records that have fare value of less than minimum taxi fare in Chicago, which is $2.70 and remove those rows as well "
   ]
  },
  {
   "cell_type": "code",
   "execution_count": 13,
   "metadata": {
    "scrolled": true
   },
   "outputs": [
    {
     "name": "stdout",
     "output_type": "stream",
     "text": [
      "<class 'pandas.core.frame.DataFrame'>\n",
      "Int64Index: 1009336 entries, 1 to 1122123\n",
      "Data columns (total 7 columns):\n",
      " #   Column                Non-Null Count    Dtype              \n",
      "---  ------                --------------    -----              \n",
      " 0   trip_start_timestamp  1009336 non-null  datetime64[ns, UTC]\n",
      " 1   pickup_latitude       1009336 non-null  float64            \n",
      " 2   pickup_longitude      1009336 non-null  float64            \n",
      " 3   dropoff_latitude      1009336 non-null  float64            \n",
      " 4   dropoff_longitude     1009336 non-null  float64            \n",
      " 5   company               1009336 non-null  object             \n",
      " 6   fare                  1009336 non-null  float64            \n",
      "dtypes: datetime64[ns, UTC](1), float64(5), object(1)\n",
      "memory usage: 61.6+ MB\n"
     ]
    }
   ],
   "source": [
    "df_for_model = df_for_model.loc[df_for_model['fare'] >= 2.70]\n",
    "df_for_model.info()"
   ]
  },
  {
   "cell_type": "markdown",
   "metadata": {},
   "source": [
    "Add new columns to indicate day of the week and hour of the day columns"
   ]
  },
  {
   "cell_type": "code",
   "execution_count": 14,
   "metadata": {
    "scrolled": true
   },
   "outputs": [
    {
     "name": "stdout",
     "output_type": "stream",
     "text": [
      "<class 'pandas.core.frame.DataFrame'>\n",
      "Int64Index: 1009336 entries, 1 to 1122123\n",
      "Data columns (total 8 columns):\n",
      " #   Column             Non-Null Count    Dtype  \n",
      "---  ------             --------------    -----  \n",
      " 0   pickup_latitude    1009336 non-null  float64\n",
      " 1   pickup_longitude   1009336 non-null  float64\n",
      " 2   dropoff_latitude   1009336 non-null  float64\n",
      " 3   dropoff_longitude  1009336 non-null  float64\n",
      " 4   company            1009336 non-null  object \n",
      " 5   fare               1009336 non-null  float64\n",
      " 6   trip_day_of_week   1009336 non-null  int64  \n",
      " 7   trip_hour_of_day   1009336 non-null  int64  \n",
      "dtypes: float64(5), int64(2), object(1)\n",
      "memory usage: 69.3+ MB\n"
     ]
    }
   ],
   "source": [
    "df_for_model['trip_day_of_week']=df_for_model['trip_start_timestamp'].dt.dayofweek\n",
    "df_for_model['trip_hour_of_day']=df_for_model['trip_start_timestamp'].dt.hour\n",
    "df_for_model=df_for_model.drop(['trip_start_timestamp'],axis=1)\n",
    "df_for_model.info()"
   ]
  },
  {
   "cell_type": "markdown",
   "metadata": {},
   "source": [
    "Find the minum value for all columns"
   ]
  },
  {
   "cell_type": "code",
   "execution_count": 15,
   "metadata": {
    "scrolled": true
   },
   "outputs": [
    {
     "data": {
      "text/plain": [
       "pickup_latitude                         41.6601\n",
       "pickup_longitude                       -87.9136\n",
       "dropoff_latitude                        41.6601\n",
       "dropoff_longitude                      -87.9136\n",
       "company              2092 - 61288 Sbeih company\n",
       "fare                                       2.85\n",
       "trip_day_of_week                              0\n",
       "trip_hour_of_day                              0\n",
       "dtype: object"
      ]
     },
     "execution_count": 15,
     "metadata": {},
     "output_type": "execute_result"
    }
   ],
   "source": [
    "df_for_model.min()"
   ]
  },
  {
   "cell_type": "markdown",
   "metadata": {},
   "source": [
    "Find the maximum values for all columns"
   ]
  },
  {
   "cell_type": "code",
   "execution_count": 16,
   "metadata": {
    "scrolled": true
   },
   "outputs": [
    {
     "data": {
      "text/plain": [
       "pickup_latitude         42.016\n",
       "pickup_longitude      -87.5349\n",
       "dropoff_latitude       42.0212\n",
       "dropoff_longitude     -87.5349\n",
       "company              U Taxicab\n",
       "fare                   9900.26\n",
       "trip_day_of_week             6\n",
       "trip_hour_of_day            23\n",
       "dtype: object"
      ]
     },
     "execution_count": 16,
     "metadata": {},
     "output_type": "execute_result"
    }
   ],
   "source": [
    "df_for_model.max()"
   ]
  },
  {
   "cell_type": "markdown",
   "metadata": {},
   "source": [
    "Apply Min Max scalar to all numerical columns"
   ]
  },
  {
   "cell_type": "code",
   "execution_count": 17,
   "metadata": {},
   "outputs": [
    {
     "name": "stdout",
     "output_type": "stream",
     "text": [
      "<class 'pandas.core.frame.DataFrame'>\n",
      "Int64Index: 1009336 entries, 1 to 1122123\n",
      "Data columns (total 8 columns):\n",
      " #   Column             Non-Null Count    Dtype  \n",
      "---  ------             --------------    -----  \n",
      " 0   pickup_latitude    1009336 non-null  float64\n",
      " 1   pickup_longitude   1009336 non-null  float64\n",
      " 2   dropoff_latitude   1009336 non-null  float64\n",
      " 3   dropoff_longitude  1009336 non-null  float64\n",
      " 4   company            1009336 non-null  object \n",
      " 5   fare               1009336 non-null  float64\n",
      " 6   trip_day_of_week   1009336 non-null  float64\n",
      " 7   trip_hour_of_day   1009336 non-null  float64\n",
      "dtypes: float64(7), object(1)\n",
      "memory usage: 69.3+ MB\n"
     ]
    }
   ],
   "source": [
    "scaler = MinMaxScaler(feature_range=(0, 1))\n",
    "num_vars = ['pickup_latitude','pickup_longitude','dropoff_latitude','dropoff_longitude','fare','trip_day_of_week','trip_hour_of_day']\n",
    "df_for_model[num_vars] = scaler.fit_transform(df_for_model[num_vars])\n",
    "df_for_model.info()"
   ]
  },
  {
   "cell_type": "code",
   "execution_count": 18,
   "metadata": {
    "scrolled": true
   },
   "outputs": [
    {
     "data": {
      "text/html": [
       "<div>\n",
       "<style scoped>\n",
       "    .dataframe tbody tr th:only-of-type {\n",
       "        vertical-align: middle;\n",
       "    }\n",
       "\n",
       "    .dataframe tbody tr th {\n",
       "        vertical-align: top;\n",
       "    }\n",
       "\n",
       "    .dataframe thead th {\n",
       "        text-align: right;\n",
       "    }\n",
       "</style>\n",
       "<table border=\"1\" class=\"dataframe\">\n",
       "  <thead>\n",
       "    <tr style=\"text-align: right;\">\n",
       "      <th></th>\n",
       "      <th>pickup_latitude</th>\n",
       "      <th>pickup_longitude</th>\n",
       "      <th>dropoff_latitude</th>\n",
       "      <th>dropoff_longitude</th>\n",
       "      <th>company</th>\n",
       "      <th>fare</th>\n",
       "      <th>trip_day_of_week</th>\n",
       "      <th>trip_hour_of_day</th>\n",
       "    </tr>\n",
       "  </thead>\n",
       "  <tbody>\n",
       "    <tr>\n",
       "      <th>1</th>\n",
       "      <td>0.672827</td>\n",
       "      <td>0.740165</td>\n",
       "      <td>0.667625</td>\n",
       "      <td>0.626499</td>\n",
       "      <td>Taxi Affiliation Services</td>\n",
       "      <td>0.001000</td>\n",
       "      <td>0.833333</td>\n",
       "      <td>0.0</td>\n",
       "    </tr>\n",
       "    <tr>\n",
       "      <th>2</th>\n",
       "      <td>0.672827</td>\n",
       "      <td>0.740165</td>\n",
       "      <td>0.605752</td>\n",
       "      <td>0.761595</td>\n",
       "      <td>Taxi Affiliation Services</td>\n",
       "      <td>0.000470</td>\n",
       "      <td>0.833333</td>\n",
       "      <td>0.0</td>\n",
       "    </tr>\n",
       "    <tr>\n",
       "      <th>3</th>\n",
       "      <td>0.672827</td>\n",
       "      <td>0.740165</td>\n",
       "      <td>0.663180</td>\n",
       "      <td>0.740165</td>\n",
       "      <td>City Service</td>\n",
       "      <td>0.000596</td>\n",
       "      <td>0.833333</td>\n",
       "      <td>0.0</td>\n",
       "    </tr>\n",
       "    <tr>\n",
       "      <th>4</th>\n",
       "      <td>0.600908</td>\n",
       "      <td>0.660398</td>\n",
       "      <td>0.663180</td>\n",
       "      <td>0.740165</td>\n",
       "      <td>Taxi Affiliation Services</td>\n",
       "      <td>0.000520</td>\n",
       "      <td>0.833333</td>\n",
       "      <td>0.0</td>\n",
       "    </tr>\n",
       "    <tr>\n",
       "      <th>5</th>\n",
       "      <td>0.899463</td>\n",
       "      <td>0.000000</td>\n",
       "      <td>0.663180</td>\n",
       "      <td>0.740165</td>\n",
       "      <td>Sun Taxi</td>\n",
       "      <td>0.004057</td>\n",
       "      <td>0.833333</td>\n",
       "      <td>0.0</td>\n",
       "    </tr>\n",
       "  </tbody>\n",
       "</table>\n",
       "</div>"
      ],
      "text/plain": [
       "   pickup_latitude  pickup_longitude  dropoff_latitude  dropoff_longitude  \\\n",
       "1         0.672827          0.740165          0.667625           0.626499   \n",
       "2         0.672827          0.740165          0.605752           0.761595   \n",
       "3         0.672827          0.740165          0.663180           0.740165   \n",
       "4         0.600908          0.660398          0.663180           0.740165   \n",
       "5         0.899463          0.000000          0.663180           0.740165   \n",
       "\n",
       "                     company      fare  trip_day_of_week  trip_hour_of_day  \n",
       "1  Taxi Affiliation Services  0.001000          0.833333               0.0  \n",
       "2  Taxi Affiliation Services  0.000470          0.833333               0.0  \n",
       "3               City Service  0.000596          0.833333               0.0  \n",
       "4  Taxi Affiliation Services  0.000520          0.833333               0.0  \n",
       "5                   Sun Taxi  0.004057          0.833333               0.0  "
      ]
     },
     "execution_count": 18,
     "metadata": {},
     "output_type": "execute_result"
    }
   ],
   "source": [
    "df_for_model.head()"
   ]
  },
  {
   "cell_type": "markdown",
   "metadata": {},
   "source": [
    "Gather the values that are used for scaling, so we can use those to decode our results during prediction"
   ]
  },
  {
   "cell_type": "code",
   "execution_count": 19,
   "metadata": {},
   "outputs": [
    {
     "name": "stdout",
     "output_type": "stream",
     "text": [
      "Note: Fare values were scaled by multiplying by 0.0001010365 and adding -0.000288\n"
     ]
    }
   ],
   "source": [
    "print(\"Note: Fare values were scaled by multiplying by {:.10f} and adding {:.6f}\".format(scaler.scale_[4], scaler.min_[4]))\n",
    "multiplied_by = scaler.scale_[4]\n",
    "added = scaler.min_[4]"
   ]
  },
  {
   "cell_type": "markdown",
   "metadata": {},
   "source": [
    "Company field is a categorical value, so lets add dummy variables"
   ]
  },
  {
   "cell_type": "code",
   "execution_count": 20,
   "metadata": {},
   "outputs": [
    {
     "name": "stdout",
     "output_type": "stream",
     "text": [
      "<class 'pandas.core.frame.DataFrame'>\n",
      "Int64Index: 1009336 entries, 1 to 1122123\n",
      "Data columns (total 51 columns):\n",
      " #   Column                                             Non-Null Count    Dtype  \n",
      "---  ------                                             --------------    -----  \n",
      " 0   pickup_latitude                                    1009336 non-null  float64\n",
      " 1   pickup_longitude                                   1009336 non-null  float64\n",
      " 2   dropoff_latitude                                   1009336 non-null  float64\n",
      " 3   dropoff_longitude                                  1009336 non-null  float64\n",
      " 4   fare                                               1009336 non-null  float64\n",
      " 5   trip_day_of_week                                   1009336 non-null  float64\n",
      " 6   trip_hour_of_day                                   1009336 non-null  float64\n",
      " 7   comp_24 Seven Taxi                                 1009336 non-null  uint8  \n",
      " 8   comp_2733 - 74600 Benny Jona                       1009336 non-null  uint8  \n",
      " 9   comp_3011 - 66308 JBL Cab Inc.                     1009336 non-null  uint8  \n",
      " 10  comp_3094 - 24059 G.L.B. Cab Co                    1009336 non-null  uint8  \n",
      " 11  comp_312 Medallion Management Corp                 1009336 non-null  uint8  \n",
      " 12  comp_3556 - 36214 RC Andrews Cab                   1009336 non-null  uint8  \n",
      " 13  comp_3591 - 63480 Chuks Cab                        1009336 non-null  uint8  \n",
      " 14  comp_3620 - 52292 David K. Cab Corp.               1009336 non-null  uint8  \n",
      " 15  comp_3623 - 72222 Arrington Enterprises            1009336 non-null  uint8  \n",
      " 16  comp_3721 - Santamaria Express, Alvaro Santamaria  1009336 non-null  uint8  \n",
      " 17  comp_4053 - 40193 Adwar H. Nikola                  1009336 non-null  uint8  \n",
      " 18  comp_4523 - 79481 Hazel Transit Inc                1009336 non-null  uint8  \n",
      " 19  comp_5 Star Taxi                                   1009336 non-null  uint8  \n",
      " 20  comp_5006 - 39261 Salifu Bawa                      1009336 non-null  uint8  \n",
      " 21  comp_5062 - 34841 Sam Mestas                       1009336 non-null  uint8  \n",
      " 22  comp_5874 - 73628 Sergey Cab Corp.                 1009336 non-null  uint8  \n",
      " 23  comp_6574 - Babylon Express Inc.                   1009336 non-null  uint8  \n",
      " 24  comp_6742 - 83735 Tasha ride inc                   1009336 non-null  uint8  \n",
      " 25  comp_6743 - 78771 Luhak Corp                       1009336 non-null  uint8  \n",
      " 26  comp_Blue Diamond                                  1009336 non-null  uint8  \n",
      " 27  comp_Blue Ribbon Taxi Association Inc.             1009336 non-null  uint8  \n",
      " 28  comp_Checker Taxi Affiliation                      1009336 non-null  uint8  \n",
      " 29  comp_Chicago Carriage Cab Corp                     1009336 non-null  uint8  \n",
      " 30  comp_Chicago Independents                          1009336 non-null  uint8  \n",
      " 31  comp_Chicago Medallion Management                  1009336 non-null  uint8  \n",
      " 32  comp_Chicago Taxicab                               1009336 non-null  uint8  \n",
      " 33  comp_Choice Taxi Association                       1009336 non-null  uint8  \n",
      " 34  comp_City Service                                  1009336 non-null  uint8  \n",
      " 35  comp_Flash Cab                                     1009336 non-null  uint8  \n",
      " 36  comp_KOAM Taxi Association                         1009336 non-null  uint8  \n",
      " 37  comp_Leonard Cab Co                                1009336 non-null  uint8  \n",
      " 38  comp_Medallion Leasin                              1009336 non-null  uint8  \n",
      " 39  comp_Metro Jet Taxi A                              1009336 non-null  uint8  \n",
      " 40  comp_Nova Taxi Affiliation Llc                     1009336 non-null  uint8  \n",
      " 41  comp_Patriot Taxi Dba Peace Taxi Associat          1009336 non-null  uint8  \n",
      " 42  comp_Petani Cab Corp                               1009336 non-null  uint8  \n",
      " 43  comp_Setare Inc                                    1009336 non-null  uint8  \n",
      " 44  comp_Star North Management LLC                     1009336 non-null  uint8  \n",
      " 45  comp_Sun Taxi                                      1009336 non-null  uint8  \n",
      " 46  comp_Taxi Affiliation Service Yellow               1009336 non-null  uint8  \n",
      " 47  comp_Taxi Affiliation Services                     1009336 non-null  uint8  \n",
      " 48  comp_Taxicab Insurance Agency, LLC                 1009336 non-null  uint8  \n",
      " 49  comp_Top Cab Affiliation                           1009336 non-null  uint8  \n",
      " 50  comp_U Taxicab                                     1009336 non-null  uint8  \n",
      "dtypes: float64(7), uint8(44)\n",
      "memory usage: 104.0 MB\n"
     ]
    }
   ],
   "source": [
    "df_dummy = pd.get_dummies(df_for_model['company'],prefix='comp', drop_first=True)\n",
    "df_for_model = pd.concat([df_for_model,df_dummy],axis=1)\n",
    "df_for_model=df_for_model.drop('company',axis=1)\n",
    "df_for_model.info()"
   ]
  },
  {
   "cell_type": "markdown",
   "metadata": {},
   "source": [
    "Split the data into training and test set"
   ]
  },
  {
   "cell_type": "code",
   "execution_count": 21,
   "metadata": {},
   "outputs": [],
   "source": [
    "X=df_for_model.drop(['fare'],axis=1)\n",
    "y=df_for_model['fare']"
   ]
  },
  {
   "cell_type": "code",
   "execution_count": 22,
   "metadata": {},
   "outputs": [
    {
     "name": "stdout",
     "output_type": "stream",
     "text": [
      "(807468, 50)\n",
      "(201868, 50)\n",
      "(807468,)\n",
      "(201868,)\n"
     ]
    }
   ],
   "source": [
    "X_train, X_test, y_train, y_test = train_test_split(X,y, test_size=0.20,random_state=123)\n",
    "print(X_train.shape)\n",
    "print(X_test.shape)\n",
    "print(y_train.shape)\n",
    "print(y_test.shape)"
   ]
  },
  {
   "cell_type": "markdown",
   "metadata": {},
   "source": [
    "Lets create a keras model and train using Train Data"
   ]
  },
  {
   "cell_type": "code",
   "execution_count": 23,
   "metadata": {},
   "outputs": [],
   "source": [
    "model = Sequential([\n",
    "    Dense(64, activation='relu', input_shape=(50,)),\n",
    "    Dense(64, activation='relu'),\n",
    "    Dense(32, activation='relu'),\n",
    "    Dense(1),\n",
    "])"
   ]
  },
  {
   "cell_type": "code",
   "execution_count": 24,
   "metadata": {},
   "outputs": [],
   "source": [
    "model.compile(optimizer='adam',\n",
    "              loss='MeanSquaredError',\n",
    "              metrics=['accuracy'])"
   ]
  },
  {
   "cell_type": "code",
   "execution_count": 25,
   "metadata": {
    "scrolled": true
   },
   "outputs": [
    {
     "name": "stdout",
     "output_type": "stream",
     "text": [
      "Epoch 1/5\n",
      "25234/25234 [==============================] - 37s 1ms/step - loss: 9.5963e-05 - accuracy: 0.0000e+00 - val_loss: 9.1193e-05 - val_accuracy: 4.9537e-06\n",
      "Epoch 2/5\n",
      "25234/25234 [==============================] - 35s 1ms/step - loss: 8.6044e-05 - accuracy: 0.0000e+00 - val_loss: 9.0134e-05 - val_accuracy: 4.9537e-06\n",
      "Epoch 3/5\n",
      "25234/25234 [==============================] - 34s 1ms/step - loss: 8.5108e-05 - accuracy: 0.0000e+00 - val_loss: 8.9237e-05 - val_accuracy: 4.9537e-06\n",
      "Epoch 4/5\n",
      "25234/25234 [==============================] - 34s 1ms/step - loss: 8.5155e-05 - accuracy: 0.0000e+00 - val_loss: 8.9449e-05 - val_accuracy: 4.9537e-06\n",
      "Epoch 5/5\n",
      "25234/25234 [==============================] - 34s 1ms/step - loss: 8.4856e-05 - accuracy: 0.0000e+00 - val_loss: 9.1925e-05 - val_accuracy: 4.9537e-06\n"
     ]
    }
   ],
   "source": [
    "hist = model.fit(X_train, y_train,\n",
    "          batch_size=32, epochs=5,\n",
    "          validation_data=(X_test, y_test))"
   ]
  },
  {
   "cell_type": "markdown",
   "metadata": {},
   "source": [
    "Lets make prediction using the created model"
   ]
  },
  {
   "cell_type": "code",
   "execution_count": 26,
   "metadata": {},
   "outputs": [
    {
     "name": "stdout",
     "output_type": "stream",
     "text": [
      "Expected value with scaling -  0.00034352421492087325\n",
      "Expected Fare - $6.25\n",
      "Prediction with scaling -  0.0008447542786598206\n",
      "Taxu_Fare Prediction  - $11.210879445150495\n"
     ]
    }
   ],
   "source": [
    "prediction = model.predict(X_test[:1])\n",
    "Expected_Fare = y_test.values[0]\n",
    "print(\"Expected value with scaling - \",format(Expected_Fare))\n",
    "Expected_Fare -= added\n",
    "Expected_Fare /= multiplied_by\n",
    "print(\"Expected Fare - ${}\".format(Expected_Fare))\n",
    "\n",
    "y_0 = prediction[0][0]\n",
    "print(\"Prediction with scaling - \",format(y_0))\n",
    "y_0 -= added\n",
    "y_0 /= multiplied_by\n",
    "print(\"Taxu_Fare Prediction  - ${}\".format(y_0))"
   ]
  },
  {
   "cell_type": "markdown",
   "metadata": {},
   "source": [
    "Based on the above baseline, it seems LGBM is giving the best prediction.  Lets take that as our prototype"
   ]
  }
 ],
 "metadata": {
  "kernelspec": {
   "display_name": "Python 3",
   "language": "python",
   "name": "python3"
  },
  "language_info": {
   "codemirror_mode": {
    "name": "ipython",
    "version": 3
   },
   "file_extension": ".py",
   "mimetype": "text/x-python",
   "name": "python",
   "nbconvert_exporter": "python",
   "pygments_lexer": "ipython3",
   "version": "3.7.6"
  }
 },
 "nbformat": 4,
 "nbformat_minor": 4
}
